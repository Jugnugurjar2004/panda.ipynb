{
 "cells": [
  {
   "cell_type": "code",
   "execution_count": null,
   "metadata": {},
   "outputs": [],
   "source": [
    "import pandas as pd \n",
    "import numpy as np "
   ]
  },
  {
   "cell_type": "code",
   "execution_count": null,
   "metadata": {},
   "outputs": [],
   "source": [
    "df = pd.read_csv (used_bikes.csv)"
   ]
  },
  {
   "cell_type": "code",
   "execution_count": 1,
   "metadata": {},
   "outputs": [
    {
     "ename": "NameError",
     "evalue": "name 'np' is not defined",
     "output_type": "error",
     "traceback": [
      "\u001b[1;31m---------------------------------------------------------------------------\u001b[0m",
      "\u001b[1;31mNameError\u001b[0m                                 Traceback (most recent call last)",
      "Cell \u001b[1;32mIn[1], line 1\u001b[0m\n\u001b[1;32m----> 1\u001b[0m data \u001b[38;5;241m=\u001b[39m {\u001b[38;5;124m'\u001b[39m\u001b[38;5;124mA\u001b[39m\u001b[38;5;124m'\u001b[39m:[\u001b[38;5;241m2\u001b[39m,\u001b[38;5;241m5\u001b[39m,\u001b[43mnp\u001b[49m\u001b[38;5;241m.\u001b[39mnan,\u001b[38;5;241m8\u001b[39m,np\u001b[38;5;241m.\u001b[39mnan,\u001b[38;5;241m9\u001b[39m],\n\u001b[0;32m      2\u001b[0m        \u001b[38;5;124m'\u001b[39m\u001b[38;5;124mB\u001b[39m\u001b[38;5;124m'\u001b[39m:[np\u001b[38;5;241m.\u001b[39mnan,\u001b[38;5;241m45\u001b[39m,np\u001b[38;5;241m.\u001b[39mnan,\u001b[38;5;241m89\u001b[39m,\u001b[38;5;241m63\u001b[39m,np\u001b[38;5;241m.\u001b[39mnan], \n\u001b[0;32m      3\u001b[0m        \u001b[38;5;124m'\u001b[39m\u001b[38;5;124mC\u001b[39m\u001b[38;5;124m'\u001b[39m:[np\u001b[38;5;241m.\u001b[39mnan,\u001b[38;5;241m74\u001b[39m,np\u001b[38;5;241m.\u001b[39mnan,np\u001b[38;5;241m.\u001b[39mnan,\u001b[38;5;241m85\u001b[39m,\u001b[38;5;241m4\u001b[39m], \n\u001b[0;32m      4\u001b[0m        \u001b[38;5;124m'\u001b[39m\u001b[38;5;124mD\u001b[39m\u001b[38;5;124m'\u001b[39m:[\u001b[38;5;241m10\u001b[39m,\u001b[38;5;241m20\u001b[39m,\u001b[38;5;241m30\u001b[39m,\u001b[38;5;241m40\u001b[39m,\u001b[38;5;241m50\u001b[39m,\u001b[38;5;241m60\u001b[39m]}\n",
      "\u001b[1;31mNameError\u001b[0m: name 'np' is not defined"
     ]
    }
   ],
   "source": [
    "data = {'A':[2,5,np.nan,8,np.nan,9],\n",
    "       'B':[np.nan,45,np.nan,89,63,np.nan], \n",
    "       'C':[np.nan,74,np.nan,np.nan,85,4], \n",
    "       'D':[10,20,30,40,50,60]}"
   ]
  },
  {
   "cell_type": "code",
   "execution_count": null,
   "metadata": {},
   "outputs": [],
   "source": []
  },
  {
   "cell_type": "code",
   "execution_count": 2,
   "metadata": {},
   "outputs": [
    {
     "name": "stdout",
     "output_type": "stream",
     "text": [
      "                              bike_name     price       city  kms_driven  \\\n",
      "0    TVS Star City Plus Dual Tone 110cc   35000.0  Ahmedabad     17654.0   \n",
      "1           Royal Enfield Classic 350cc  119900.0      Delhi     11000.0   \n",
      "2                  Triumph Daytona 675R  600000.0      Delhi       110.0   \n",
      "3                  TVS Apache RTR 180cc   65000.0  Bangalore     16329.0   \n",
      "4  Yamaha FZ S V 2.0 150cc-Ltd. Edition   80000.0  Bangalore     10000.0   \n",
      "\n",
      "         owner  age  power          brand  \n",
      "0  First Owner  3.0  110.0            TVS  \n",
      "1  First Owner  4.0  350.0  Royal Enfield  \n",
      "2  First Owner  8.0  675.0        Triumph  \n",
      "3  First Owner  4.0  180.0            TVS  \n",
      "4  First Owner  3.0  150.0         Yamaha  \n"
     ]
    }
   ],
   "source": [
    "\n",
    "import pandas as pd\n",
    "\n",
    "# Read the CSV file\n",
    "df = pd.read_csv('Used_Bikes.csv')\n",
    "\n",
    "# Print the first few rows of the DataFrame\n",
    "print(df.head())\n"
   ]
  },
  {
   "cell_type": "code",
   "execution_count": 7,
   "metadata": {},
   "outputs": [
    {
     "name": "stdout",
     "output_type": "stream",
     "text": [
      "     A     B     C   D\n",
      "0  2.0   NaN   NaN  10\n",
      "1  5.0  45.0  74.0  20\n",
      "2  NaN   NaN   NaN  30\n",
      "3  8.0  89.0   NaN  40\n",
      "4  NaN  63.0  85.0  50\n",
      "5  9.0   NaN   4.0  60\n"
     ]
    }
   ],
   "source": [
    "data = {'A':[2,5,np.nan,8,np.nan,9],\n",
    "       'B':[np.nan,45,np.nan,89,63,np.nan], \n",
    "       'C':[np.nan,74,np.nan,np.nan,85,4], \n",
    "       'D':[10,20,30,40,50,60]}\n",
    "\n",
    "\n",
    "\n",
    "import pandas as pd\n",
    "import numpy as np\n",
    "\n",
    "# Create a DataFrame from the dictionary\n",
    "df = pd.DataFrame(data)\n",
    "\n",
    "# Print the DataFrame\n",
    "print(df)\n",
    "\n",
    "\n",
    "\n"
   ]
  },
  {
   "cell_type": "code",
   "execution_count": 9,
   "metadata": {},
   "outputs": [
    {
     "name": "stdout",
     "output_type": "stream",
     "text": [
      "     A     B     C   D\n",
      "0  2.0   0.0   0.0  10\n",
      "1  5.0  45.0  74.0  20\n",
      "2  0.0   0.0   0.0  30\n",
      "3  8.0  89.0   0.0  40\n",
      "4  0.0  63.0  85.0  50\n",
      "5  9.0   0.0   4.0  60\n"
     ]
    }
   ],
   "source": [
    "\n",
    "df_filled = df.fillna(0)\n",
    "print(df_filled)\n"
   ]
  },
  {
   "cell_type": "code",
   "execution_count": null,
   "metadata": {},
   "outputs": [],
   "source": [
    "\n",
    "\n"
   ]
  }
 ],
 "metadata": {
  "kernelspec": {
   "display_name": "Python 3",
   "language": "python",
   "name": "python3"
  },
  "language_info": {
   "codemirror_mode": {
    "name": "ipython",
    "version": 3
   },
   "file_extension": ".py",
   "mimetype": "text/x-python",
   "name": "python",
   "nbconvert_exporter": "python",
   "pygments_lexer": "ipython3",
   "version": "3.12.4"
  }
 },
 "nbformat": 4,
 "nbformat_minor": 2
}
